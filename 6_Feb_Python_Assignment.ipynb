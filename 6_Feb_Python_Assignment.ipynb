{
  "nbformat": 4,
  "nbformat_minor": 0,
  "metadata": {
    "colab": {
      "provenance": []
    },
    "kernelspec": {
      "name": "python3",
      "display_name": "Python 3"
    },
    "language_info": {
      "name": "python"
    }
  },
  "cells": [
    {
      "cell_type": "markdown",
      "source": [
        "Ques 1.  Create a function which will take a list as an argument and return the product of all the numbers\n",
        "after creating a flat list.\n",
        "\n",
        "Use the below-given list as an argument for your function.\n",
        "\n",
        "\n",
        "list1 = [1,2,3,4, [44,55,66, True], False, (34,56,78,89,34), {1,2,3,3,2,1}, {1:34, \"key2\": [55, 67, 78, 89], 4: (45,\n",
        "22, 61, 34)}, [56, 'data science'], 'Machine Learning']"
      ],
      "metadata": {
        "id": "1D_u__PzC1j2"
      }
    },
    {
      "cell_type": "code",
      "source": [
        "def product_nums(input_lst):\n",
        "  def flatten(lst):\n",
        "    flat_list=[]\n",
        "    for item in lst:\n",
        "      if isinstance(item, (list,tuple,set)):\n",
        "        flat_list.extend(flatten(item))\n",
        "      elif isinstance(item,(int,float)):\n",
        "        flat_list.append(item)\n",
        "    return flat_list\n",
        "\n",
        "  flattened_list = flatten(input_lst)\n",
        "  prod = 1\n",
        "  for num in flattened_list:\n",
        "    prod*=num\n",
        "\n",
        "  return prod\n",
        "\n",
        "list1 = [1,2,3,4, [44,55,66, True], False, (34,56,78,89,34), {1,2,3,3,2,1}, {1:34, \"key2\": [55, 67, 78, 89], 4: (45, 22, 61, 34)}, [56, 'data science'], 'Machine Learning']\n",
        "ans = product_nums(list1)\n",
        "print(ans)"
      ],
      "metadata": {
        "id": "jf6juzs1kqJ8",
        "colab": {
          "base_uri": "https://localhost:8080/"
        },
        "outputId": "e49e7b61-9181-443e-83d9-8f50bec497df"
      },
      "execution_count": 5,
      "outputs": [
        {
          "output_type": "stream",
          "name": "stdout",
          "text": [
            "0\n"
          ]
        }
      ]
    },
    {
      "cell_type": "markdown",
      "source": [
        "Ques 2. Write a python program for encrypting a message sent to you by your friend. The logic of encryption\n",
        "should be such that, for a the output should be z. For b, the output should be y. For c, the output should\n",
        "be x respectively. Also, the whitespace should be replaced with a dollar sign. Keep the punctuation\n",
        "marks unchanged.\n",
        "\n",
        "\n",
        "Input Sentence: I want to become a Data Scientist.\n",
        "\n",
        "\n",
        "Encrypt the above input sentence using the program you just created.\n",
        "\n",
        "\n",
        "Note: Convert the given input sentence into lowercase before encrypting. The final output should be\n",
        "lowercase."
      ],
      "metadata": {
        "id": "VZpZjXgUE0Xa"
      }
    },
    {
      "cell_type": "code",
      "source": [
        "def encrypt_message(message):\n",
        "    encrypted = \"\"\n",
        "    for char in message:\n",
        "        if char.isalpha():\n",
        "\n",
        "            if char.islower():\n",
        "                encrypted += chr(ord('z') - (ord(char) - ord('a')))\n",
        "            else:\n",
        "                encrypted += chr(ord('Z') - (ord(char) - ord('A')))\n",
        "        elif char == ' ':\n",
        "\n",
        "            encrypted += '$'\n",
        "        else:\n",
        "\n",
        "            encrypted += char\n",
        "    return encrypted\n",
        "\n",
        "\n",
        "input_sentence = \"I want to become a Data Scientist.\"\n",
        "\n",
        "\n",
        "encrypted_sentence = encrypt_message(input_sentence.lower())\n",
        "\n",
        "\n",
        "print(\"Encrypted message:\", encrypted_sentence)\n"
      ],
      "metadata": {
        "colab": {
          "base_uri": "https://localhost:8080/"
        },
        "id": "hNIHspVAE2Ip",
        "outputId": "2171a278-ddaf-479b-ca06-c1f379e379bf"
      },
      "execution_count": 4,
      "outputs": [
        {
          "output_type": "stream",
          "name": "stdout",
          "text": [
            "Encrypted message: r$dzmg$gl$yvxlnv$z$wzgz$hxrvmgrhg.\n"
          ]
        }
      ]
    }
  ]
}
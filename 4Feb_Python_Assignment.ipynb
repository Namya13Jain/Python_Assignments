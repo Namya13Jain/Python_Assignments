{
  "nbformat": 4,
  "nbformat_minor": 0,
  "metadata": {
    "colab": {
      "provenance": []
    },
    "kernelspec": {
      "name": "python3",
      "display_name": "Python 3"
    },
    "language_info": {
      "name": "python"
    }
  },
  "cells": [
    {
      "cell_type": "code",
      "execution_count": 33,
      "metadata": {
        "colab": {
          "base_uri": "https://localhost:8080/"
        },
        "id": "Gl6wALI0xQxR",
        "outputId": "7fccdbdd-d9fe-4673-fca6-359a800d3ead"
      },
      "outputs": [
        {
          "output_type": "stream",
          "name": "stdout",
          "text": [
            "[('Virat Kohli', 24936), ('Jack Kallis', 25534), ('Ricky Ponting', 27483), ('Sachin Tendulkar', 34357)]\n"
          ]
        }
      ],
      "source": [
        "# Ques 1:  Create a python program to sort the given list of tuples based on integer value using a lambda function.\n",
        "\n",
        "\n",
        "l= [('Sachin Tendulkar', 34357), ('Ricky Ponting', 27483), ('Jack Kallis', 25534), ('Virat Kohli', 24936)]\n",
        "sort_list = sorted(l,key = lambda x: x[1])\n",
        "print(sort_list)"
      ]
    },
    {
      "cell_type": "code",
      "source": [
        "# Ques 2:  Write a Python Program to find the squares of all the numbers in the given list of integers using lambda and map functions.\n",
        "l = [1,2,3,4,5,6,7,8,9,10]\n",
        "l1=[]\n",
        "res = list(map(lambda x : x**2 ,l))\n",
        "print(res)"
      ],
      "metadata": {
        "colab": {
          "base_uri": "https://localhost:8080/"
        },
        "id": "U2vGh7VCQhPr",
        "outputId": "c535f1cf-ad6b-4265-8420-abf0286b9455"
      },
      "execution_count": 24,
      "outputs": [
        {
          "output_type": "stream",
          "name": "stdout",
          "text": [
            "[1, 4, 9, 16, 25, 36, 49, 64, 81, 100]\n"
          ]
        }
      ]
    },
    {
      "cell_type": "code",
      "source": [
        "# Ques 3: Write a python program to convert the given list of integers into a tuple of strings. Use map and lambda functions\n",
        "# Given String: [1, 2, 3, 4, 5, 6, 7, 8, 9, 10]\n",
        "#Expected output: ('1', '2', '3', '4', '5', '6', '7', '8', '9', '10')\n",
        "\n",
        "l = [1,2,3,4,5,6,7,8,9,10]\n",
        "num = tuple(map(lambda i : str(i),l))\n",
        "print(num)"
      ],
      "metadata": {
        "colab": {
          "base_uri": "https://localhost:8080/"
        },
        "id": "b97Pxw7ANMXk",
        "outputId": "e69caae5-e661-43f0-d7d3-79ccbd64ee20"
      },
      "execution_count": 12,
      "outputs": [
        {
          "output_type": "stream",
          "name": "stdout",
          "text": [
            "('1', '2', '3', '4', '5', '6', '7', '8', '9', '10')\n"
          ]
        }
      ]
    },
    {
      "cell_type": "code",
      "source": [
        "# Ques 4: Write a python program using reduce function to compute the product of a list containing numbers from 1 to 25.\n",
        "from functools import reduce\n",
        "l = []\n",
        "for i in range(1,26):\n",
        "  l.append(i)\n",
        "\n",
        "reduce(lambda x,y: x*y, l)\n"
      ],
      "metadata": {
        "id": "2wRSOX5k0TQ_",
        "colab": {
          "base_uri": "https://localhost:8080/"
        },
        "outputId": "7f498c7a-ae02-4a19-a685-607e69724a94"
      },
      "execution_count": 2,
      "outputs": [
        {
          "output_type": "execute_result",
          "data": {
            "text/plain": [
              "15511210043330985984000000"
            ]
          },
          "metadata": {},
          "execution_count": 2
        }
      ]
    },
    {
      "cell_type": "code",
      "source": [
        "# Ques 5: Write a python program to filter the numbers in a given list that are divisible by 2 and 3 using the filter function.\n",
        "\n",
        "\n",
        "s = [2, 3, 6, 9, 27, 60, 90, 120, 55, 46]\n",
        "list(filter(lambda x: x%2==0 or x%3==0 , s))"
      ],
      "metadata": {
        "colab": {
          "base_uri": "https://localhost:8080/"
        },
        "id": "qJpj0xVZMflh",
        "outputId": "37f55c79-7af4-4d78-b179-c9190ab229fc"
      },
      "execution_count": 26,
      "outputs": [
        {
          "output_type": "execute_result",
          "data": {
            "text/plain": [
              "[2, 3, 6, 9, 27, 60, 90, 120, 46]"
            ]
          },
          "metadata": {},
          "execution_count": 26
        }
      ]
    },
    {
      "cell_type": "code",
      "source": [
        "# Ques 6: Write a python program to find palindromes in the given list of strings using lambda and filter function.\n",
        "\n",
        "l1 =['python', 'php', 'aba', 'radar', 'level']\n",
        "palindrome = list(filter(lambda x: x == x[::-1], l1))\n",
        "print(palindrome)\n",
        "\n",
        "\n"
      ],
      "metadata": {
        "colab": {
          "base_uri": "https://localhost:8080/"
        },
        "id": "JBctjTnnTwIb",
        "outputId": "67cff0f8-8bc8-44af-f323-5c9ab3077857"
      },
      "execution_count": 31,
      "outputs": [
        {
          "output_type": "stream",
          "name": "stdout",
          "text": [
            "['php', 'aba', 'radar', 'level']\n"
          ]
        }
      ]
    }
  ]
}
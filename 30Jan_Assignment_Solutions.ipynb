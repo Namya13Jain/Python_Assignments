{
  "nbformat": 4,
  "nbformat_minor": 0,
  "metadata": {
    "colab": {
      "provenance": []
    },
    "kernelspec": {
      "name": "python3",
      "display_name": "Python 3"
    },
    "language_info": {
      "name": "python"
    }
  },
  "cells": [
    {
      "cell_type": "markdown",
      "source": [
        "Ques 1. Write a program to accept percentage from the user and display the grade according to the following criteria."
      ],
      "metadata": {
        "id": "O00ahRNuyVui"
      }
    },
    {
      "cell_type": "code",
      "execution_count": 7,
      "metadata": {
        "id": "i-kWvJ5LAp4z",
        "colab": {
          "base_uri": "https://localhost:8080/"
        },
        "outputId": "623a26be-e4de-4703-a86b-28b9de47435f"
      },
      "outputs": [
        {
          "output_type": "stream",
          "name": "stdout",
          "text": [
            "Enter the percentage 75\n",
            "C\n"
          ]
        }
      ],
      "source": [
        "percentage = float(input(\"Enter the percentage \"))\n",
        "\n",
        "if percentage>90:\n",
        "  print('A')\n",
        "elif percentage>80:\n",
        "  print('B')\n",
        "elif percentage>=60:\n",
        "  print('C')\n",
        "else:\n",
        "  print('D')\n"
      ]
    },
    {
      "cell_type": "markdown",
      "source": [
        "Ques 2. Write a program to accept the cost price of a bike and display the road tax to be paid according to the following criteria."
      ],
      "metadata": {
        "id": "Y0eNqO5e2PZs"
      }
    },
    {
      "cell_type": "code",
      "source": [
        "cost_price = float(input(\"Enter the cost price of the bike \"))\n",
        "\n",
        "if cost_price>100000:\n",
        "  print('15%')\n",
        "elif cost_price>50000:\n",
        "  print('10%')\n",
        "else:\n",
        "  print('5%')"
      ],
      "metadata": {
        "colab": {
          "base_uri": "https://localhost:8080/"
        },
        "id": "sqWJCWY41LYS",
        "outputId": "a210326f-bc96-480b-8867-6aaa6545696f"
      },
      "execution_count": 10,
      "outputs": [
        {
          "output_type": "stream",
          "name": "stdout",
          "text": [
            "Enter the cost price of the bike 60000\n",
            "10%\n"
          ]
        }
      ]
    },
    {
      "cell_type": "markdown",
      "source": [
        "Ques 3. Accept ant city from the user and display the monuments of that city."
      ],
      "metadata": {
        "id": "B96GX7jM2360"
      }
    },
    {
      "cell_type": "code",
      "source": [
        "city = input(\"Enter the city \")\n",
        "if city=='Delhi':\n",
        "  print('Red Fort')\n",
        "elif city=='Agra':\n",
        "  print('Taj Mahal')\n",
        "elif city=='Jaipur':\n",
        "  print('Jal Mahal')\n",
        "else:\n",
        "  print('No monument listed')\n"
      ],
      "metadata": {
        "colab": {
          "base_uri": "https://localhost:8080/"
        },
        "id": "nKgFcUlH2kpW",
        "outputId": "f4c13686-dc64-4b8f-b3f6-fc5a6a4343c2"
      },
      "execution_count": 17,
      "outputs": [
        {
          "output_type": "stream",
          "name": "stdout",
          "text": [
            "Enter the city Agra\n",
            "Taj Mahal\n"
          ]
        }
      ]
    },
    {
      "cell_type": "markdown",
      "source": [
        "Ques 4. Check how many times a number can be divided by 3 before it is less than or equal to 10."
      ],
      "metadata": {
        "id": "tyJkhCUa3kuA"
      }
    },
    {
      "cell_type": "code",
      "source": [
        "num = int( input(\"Enter the number \"))\n",
        "\n",
        "count = 0\n",
        "\n",
        "while num>10:\n",
        "  num/=3\n",
        "  count+=1\n",
        "\n",
        "print(count)"
      ],
      "metadata": {
        "colab": {
          "base_uri": "https://localhost:8080/"
        },
        "id": "YKnbI5Ag3BhM",
        "outputId": "71486396-f29b-43c2-bca4-29d00525d03f"
      },
      "execution_count": 20,
      "outputs": [
        {
          "output_type": "stream",
          "name": "stdout",
          "text": [
            "Enter the number 120\n",
            "3\n"
          ]
        }
      ]
    },
    {
      "cell_type": "markdown",
      "source": [
        "Ques 5. Why and when to use while loop in Python. Give a detailed description with example."
      ],
      "metadata": {
        "id": "qn-TVGky7fk5"
      }
    },
    {
      "cell_type": "markdown",
      "source": [
        "Ans 5. The while loop in Python is used when you want to execute a block of code repeatedly as long as a condition is true. It's particularly handy when the number of iterations is not predetermined and depends on a condition that might change during the execution of the loop."
      ],
      "metadata": {
        "id": "iKZNS5XT-dV_"
      }
    },
    {
      "cell_type": "code",
      "source": [
        "# Example: To print numbers from 1 to 10\n",
        "num = 1\n",
        "while num<11:\n",
        "  print(num)\n",
        "  num+=1"
      ],
      "metadata": {
        "colab": {
          "base_uri": "https://localhost:8080/"
        },
        "id": "diTvYRmK7gDS",
        "outputId": "d80c3cef-548d-4ade-8feb-04dc5d983fc2"
      },
      "execution_count": 23,
      "outputs": [
        {
          "output_type": "stream",
          "name": "stdout",
          "text": [
            "1\n",
            "2\n",
            "3\n",
            "4\n",
            "5\n",
            "6\n",
            "7\n",
            "8\n",
            "9\n",
            "10\n"
          ]
        }
      ]
    },
    {
      "cell_type": "markdown",
      "source": [
        "Ques 6. Use nested while loop to print 3 different pattern."
      ],
      "metadata": {
        "id": "h_RJKmeC-0AO"
      }
    },
    {
      "cell_type": "code",
      "source": [
        "# Pattren 1: Triangle Pattern\n",
        "rows = 4\n",
        "i = 1\n",
        "while i<=rows:\n",
        "  j = 1\n",
        "  while j<=i:\n",
        "    print(\"*\", end = \" \")\n",
        "    j+=1\n",
        "  print()\n",
        "  i+=1"
      ],
      "metadata": {
        "colab": {
          "base_uri": "https://localhost:8080/"
        },
        "id": "wDArY_I0_HpI",
        "outputId": "aedda439-e838-42d0-8320-bd10e62d463d"
      },
      "execution_count": 25,
      "outputs": [
        {
          "output_type": "stream",
          "name": "stdout",
          "text": [
            "* \n",
            "* * \n",
            "* * * \n",
            "* * * * \n"
          ]
        }
      ]
    },
    {
      "cell_type": "code",
      "source": [
        "# Pattern 2: Number Pattern\n",
        "n = 5\n",
        "i = 1\n",
        "\n",
        "while i<=n:\n",
        "  j=1\n",
        "  while j<=i:\n",
        "    print(j, end = \" \")\n",
        "    j+=1\n",
        "  print()\n",
        "  i+=1"
      ],
      "metadata": {
        "colab": {
          "base_uri": "https://localhost:8080/"
        },
        "id": "XCcXzWK7_IbT",
        "outputId": "aad4f7d6-b3aa-48b6-fdcf-e49cb2120552"
      },
      "execution_count": 26,
      "outputs": [
        {
          "output_type": "stream",
          "name": "stdout",
          "text": [
            "1 \n",
            "1 2 \n",
            "1 2 3 \n",
            "1 2 3 4 \n",
            "1 2 3 4 5 \n"
          ]
        }
      ]
    },
    {
      "cell_type": "code",
      "source": [
        "#Pattern 3: Sqaure Pattern\n",
        "n = 4\n",
        "i = 1\n",
        "while i<=n:\n",
        "  j = 1\n",
        "  while j<=n:\n",
        "    print(\"#\",end=\" \")\n",
        "    j+=1\n",
        "  print()\n",
        "  i+=1"
      ],
      "metadata": {
        "colab": {
          "base_uri": "https://localhost:8080/"
        },
        "id": "a3O46B29_IHg",
        "outputId": "dfa85c7d-3bb6-491c-c14a-b1490d8c32f3"
      },
      "execution_count": 28,
      "outputs": [
        {
          "output_type": "stream",
          "name": "stdout",
          "text": [
            "# # # # \n",
            "# # # # \n",
            "# # # # \n",
            "# # # # \n"
          ]
        }
      ]
    },
    {
      "cell_type": "markdown",
      "source": [
        "Ques 7 and 8. Reverse a while loop to display numbers from 10 to 1."
      ],
      "metadata": {
        "id": "vPYQ5AdQ6ipW"
      }
    },
    {
      "cell_type": "code",
      "source": [
        "num = 11\n",
        "while num>1:\n",
        "  num-=1\n",
        "  print(num)\n",
        "\n"
      ],
      "metadata": {
        "colab": {
          "base_uri": "https://localhost:8080/"
        },
        "id": "KiTEUMVC6wH_",
        "outputId": "0b108a36-885a-4a97-b1ae-fd9d538aaa6f"
      },
      "execution_count": 22,
      "outputs": [
        {
          "output_type": "stream",
          "name": "stdout",
          "text": [
            "10\n",
            "9\n",
            "8\n",
            "7\n",
            "6\n",
            "5\n",
            "4\n",
            "3\n",
            "2\n",
            "1\n"
          ]
        }
      ]
    }
  ]
}
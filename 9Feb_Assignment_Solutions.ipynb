{
  "nbformat": 4,
  "nbformat_minor": 0,
  "metadata": {
    "colab": {
      "provenance": []
    },
    "kernelspec": {
      "name": "python3",
      "display_name": "Python 3"
    },
    "language_info": {
      "name": "python"
    }
  },
  "cells": [
    {
      "cell_type": "markdown",
      "source": [
        "Ques 1: Create a vehicle class with an init method having instance variables as name_of_vehicle, max_speed and average_of_vehicle."
      ],
      "metadata": {
        "id": "7rUjdMKggGW7"
      }
    },
    {
      "cell_type": "code",
      "execution_count": null,
      "metadata": {
        "colab": {
          "base_uri": "https://localhost:8080/"
        },
        "id": "QqCArm4He3sD",
        "outputId": "611e3c3d-6ddc-412f-b87f-d24bc489c12d"
      },
      "outputs": [
        {
          "output_type": "execute_result",
          "data": {
            "text/plain": [
              "('Grand Vitara', 120, 80)"
            ]
          },
          "metadata": {},
          "execution_count": 2
        }
      ],
      "source": [
        "class vehicle:\n",
        "  def __init__(self,name_of_vehicle,max_speed,average_of_vehicle):\n",
        "    self.name_of_vehicle = name_of_vehicle\n",
        "    self.max_speed = max_speed\n",
        "    self.average_of_vehicle = average_of_vehicle\n",
        "\n",
        "  def vehicleDetails(self):\n",
        "    return self.name_of_vehicle, self.max_speed, self.average_of_vehicle\n",
        "\n",
        "car = vehicle(\"Grand Vitara\", 120, 80)\n",
        "car.vehicleDetails()"
      ]
    },
    {
      "cell_type": "markdown",
      "source": [
        "Ques 2: Create a child class car from vehicle class from ques 1, which will inherit the vehicle class. Create a method named seating_capacity which takes capacity as an argument and returns the name of the vehicle and its seating capacity."
      ],
      "metadata": {
        "id": "WecTRW1agFr1"
      }
    },
    {
      "cell_type": "code",
      "source": [
        "class vehicle:\n",
        "  def __init__(self,name_of_vehicle,max_speed,average_of_vehicle):\n",
        "    self.name_of_vehicle = name_of_vehicle\n",
        "    self.max_speed = max_speed\n",
        "    self.average_of_vehicle = average_of_vehicle\n",
        "\n",
        "  def vehicleDetails(self):\n",
        "    return self.name_of_vehicle, self.max_speed, self.average_of_vehicle\n",
        "\n",
        "class car(vehicle):\n",
        "  def __init__(self,name_of_vehicle,max_speed,average_of_vehicle,seating_capacity):\n",
        "    super().__init__(name_of_vehicle,max_speed,average_of_vehicle)\n",
        "    self.seating_capacity = seating_capacity\n",
        "\n",
        "maruti = car(\"Grand Vitara\",120,80,5)\n",
        "print(maruti.name_of_vehicle)\n",
        "print(maruti.seating_capacity)\n",
        "\n"
      ],
      "metadata": {
        "colab": {
          "base_uri": "https://localhost:8080/"
        },
        "id": "SeNz9d0CguLE",
        "outputId": "48b44a3c-985a-4326-a985-3bc595ffbed4"
      },
      "execution_count": null,
      "outputs": [
        {
          "output_type": "stream",
          "name": "stdout",
          "text": [
            "Grand Vitara\n",
            "5\n"
          ]
        }
      ]
    },
    {
      "cell_type": "markdown",
      "source": [
        "Ques 3: What is multiple inheritance? Write a python code to demonstrate multiple inheritance."
      ],
      "metadata": {
        "id": "tcdi52Nbgtoi"
      }
    },
    {
      "cell_type": "markdown",
      "source": [
        "Multiple inheritance is a type of inheritance where multiple classes can be inherited by a single child class. For example: classes A,B,C can be inherited by a single child class D."
      ],
      "metadata": {
        "id": "4_TNbXxmsEuG"
      }
    },
    {
      "cell_type": "code",
      "source": [
        "class father:\n",
        "  def fatherDetails(self):\n",
        "    print(\"I'm the father class\\n\")\n",
        "\n",
        "class mother:\n",
        "  def motherDetails(self):\n",
        "     print(\"I'm the mother class\\n\")\n",
        "\n",
        "class child(father,mother):\n",
        "  def childDetails(self):\n",
        "    print(\"I'm the child class\\n\")\n",
        "\n",
        "child_obj = child()\n",
        "child_obj.fatherDetails()\n",
        "child_obj.motherDetails()\n",
        "child_obj.childDetails()\n",
        "\n"
      ],
      "metadata": {
        "colab": {
          "base_uri": "https://localhost:8080/"
        },
        "id": "wXP2i3geg2YV",
        "outputId": "12223654-a9ef-4325-ea85-f334ec3cb97e"
      },
      "execution_count": null,
      "outputs": [
        {
          "output_type": "stream",
          "name": "stdout",
          "text": [
            "I'm the father class\n",
            "\n",
            "I'm the mother class\n",
            "\n",
            "I'm the child class\n",
            "\n"
          ]
        }
      ]
    },
    {
      "cell_type": "markdown",
      "source": [
        "Ques 4: What are getter and setter in python? Create a class and a getter and setter method in this class."
      ],
      "metadata": {
        "id": "Bie34E0Pg2-J"
      }
    },
    {
      "cell_type": "markdown",
      "source": [
        "A getter is used to get/read the value of the attribute.\n",
        "\n",
        "A setter is used to modify/set te value of the attribute."
      ],
      "metadata": {
        "id": "HBSsoS3xIGV3"
      }
    },
    {
      "cell_type": "code",
      "source": [
        "class employee_details:\n",
        "\n",
        "  def __init__(self,name,email_id,salary):\n",
        "    self.name = name\n",
        "    self.email_id = email_id\n",
        "    self.__salary = salary\n",
        "  #getter function\n",
        "  @property\n",
        "  def salary_access(self):\n",
        "    print(self.name)\n",
        "    print(self.email_id)\n",
        "    return self.__salary\n",
        "\n",
        "  #setter function\n",
        "  @salary_access.setter\n",
        "  def salary_setter(self,sal):\n",
        "    self.__salary = sal\n",
        "\n",
        "emp1 = employee_details(\"Mohit\",\"mohit123@gmail.com\",50000)\n",
        "print(emp1.salary_access)\n",
        "print(\"Salary of Emp1 after modification\")\n",
        "emp1.salary_setter= 600000\n",
        "print(emp1.salary_access)"
      ],
      "metadata": {
        "id": "gTBOe1S_g_Er",
        "colab": {
          "base_uri": "https://localhost:8080/"
        },
        "outputId": "e23a8857-d621-4593-b989-975a518e825d"
      },
      "execution_count": 1,
      "outputs": [
        {
          "output_type": "stream",
          "name": "stdout",
          "text": [
            "Mohit\n",
            "mohit123@gmail.com\n",
            "50000\n",
            "Salary of Emp1 after modification\n",
            "Mohit\n",
            "mohit123@gmail.com\n",
            "600000\n"
          ]
        }
      ]
    },
    {
      "cell_type": "markdown",
      "source": [
        "Ques 5: What is method overriding in python? Write a python code to demonstrate method overriding."
      ],
      "metadata": {
        "id": "hFaPfq3Qg_lM"
      }
    },
    {
      "cell_type": "markdown",
      "source": [
        "Method overriding is an ability of any object-oriented programming language that allows a subclass or child class to provide a specific implementation of a method that is already provided by one of its super-classes or parent classes. When a method in a subclass has the same name, same parameters or signature and same return type(or sub-type) as a method in its super-class, then the method in the subclass is said to override the method in the super-class."
      ],
      "metadata": {
        "id": "WIt-2jnqJxHr"
      }
    },
    {
      "cell_type": "code",
      "source": [
        "class Animal:\n",
        "  def __init__(self):\n",
        "    print(\"This Animal Class\")\n",
        "\n",
        "  def voice(self):\n",
        "    print(\"Animal's make differnt voices\")\n",
        "\n",
        "class Dog(Animal):\n",
        "  def __init__(self):\n",
        "    print(\"This is Dog Class\")\n",
        "\n",
        "  def voice(self):\n",
        "    print(\"Dog Barks\")\n",
        "\n",
        "dg = Dog()\n",
        "dg.voice()\n",
        "\n",
        "an = Animal()\n",
        "an.voice()"
      ],
      "metadata": {
        "id": "77a5IIuFhIEG",
        "colab": {
          "base_uri": "https://localhost:8080/"
        },
        "outputId": "493984b2-0b1c-4138-8c81-db71cc254baf"
      },
      "execution_count": 2,
      "outputs": [
        {
          "output_type": "stream",
          "name": "stdout",
          "text": [
            "This is Dog Class\n",
            "Dog Barks\n",
            "This Animal Class\n",
            "Animal's make differnt voices\n"
          ]
        }
      ]
    }
  ]
}
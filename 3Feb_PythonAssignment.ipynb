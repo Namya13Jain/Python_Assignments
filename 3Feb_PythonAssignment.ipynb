{
  "nbformat": 4,
  "nbformat_minor": 0,
  "metadata": {
    "colab": {
      "provenance": []
    },
    "kernelspec": {
      "name": "python3",
      "display_name": "Python 3"
    },
    "language_info": {
      "name": "python"
    }
  },
  "cells": [
    {
      "cell_type": "code",
      "source": [
        "# Ques 1:  Which keyword is used to create a function? Create a function to return a list of odd numbers in the range of 1 to 25\n",
        "# Ans 1: def keyword is used to create a function. Syntax: def function_name(arguments):\n",
        "# For example: def func(a,b):\n",
        "\n",
        "def odd_nums():\n",
        "  \"\"\" this is the function for printing odd numbers in range 1 to 25\"\"\"\n",
        "  l=[]\n",
        "  for i in range(1,26):\n",
        "    if i%2!=0:\n",
        "      l.append(i)\n",
        "  return l"
      ],
      "metadata": {
        "id": "WDwx9snazbdI"
      },
      "execution_count": 27,
      "outputs": []
    },
    {
      "cell_type": "code",
      "source": [
        "odd_nums()"
      ],
      "metadata": {
        "id": "ya3ZJ75rzbZq",
        "colab": {
          "base_uri": "https://localhost:8080/"
        },
        "outputId": "17723f7f-9559-4706-9d72-58a572eb1b35"
      },
      "execution_count": 28,
      "outputs": [
        {
          "output_type": "execute_result",
          "data": {
            "text/plain": [
              "[1, 3, 5, 7, 9, 11, 13, 15, 17, 19, 21, 23, 25]"
            ]
          },
          "metadata": {},
          "execution_count": 28
        }
      ]
    },
    {
      "cell_type": "code",
      "source": [
        "# Ques 2:  Why *args and **kwargs is used in some functions? Create a function each for *args and **kwargs to demonstrate their use."
      ],
      "metadata": {
        "id": "KAETz-gHzbW1"
      },
      "execution_count": 29,
      "outputs": []
    },
    {
      "cell_type": "markdown",
      "source": [
        " Ans 2:  *args   is used to add multiple arguments as input pparameter in functions. It is useful when the number of argument parameters is not known to the programmer and decided later during runtime when the user calls the function. It returns tuple.\n",
        "\n",
        "\n",
        "**kwargs  is used to multiple arguments as key-value pair(dictionary) in function parameters. It is useful when the number of argument parameters is not known to the programmer and decided later during runtime when the user calls the function. The return type is dictionary."
      ],
      "metadata": {
        "id": "_NHuV-un_gud"
      }
    },
    {
      "cell_type": "code",
      "source": [
        "# Ans 2:\n",
        "def func1(*args):\n",
        "  return args\n",
        "\n",
        "func1(1,2,[10,20,30,40,50],\"Pwskills is awesome\",{100,101,102,103,104},(100,200,300,400))"
      ],
      "metadata": {
        "id": "o3pJFfCEzbUZ",
        "colab": {
          "base_uri": "https://localhost:8080/"
        },
        "outputId": "7b3c5aac-ca50-45cc-f548-add24b9589cf"
      },
      "execution_count": 30,
      "outputs": [
        {
          "output_type": "execute_result",
          "data": {
            "text/plain": [
              "(1,\n",
              " 2,\n",
              " [10, 20, 30, 40, 50],\n",
              " 'Pwskills is awesome',\n",
              " {100, 101, 102, 103, 104},\n",
              " (100, 200, 300, 400))"
            ]
          },
          "metadata": {},
          "execution_count": 30
        }
      ]
    },
    {
      "cell_type": "code",
      "source": [
        "# Ans 2:\n",
        "def func2(**kwargs):\n",
        "  return kwargs\n",
        "\n",
        "func2(a = [1,2,3,4], b =\"data science\", c = \"pwskills\")"
      ],
      "metadata": {
        "id": "VRQs48t4zbRs",
        "colab": {
          "base_uri": "https://localhost:8080/"
        },
        "outputId": "b55d1177-29eb-4fe1-d4df-764ad5dd4034"
      },
      "execution_count": 31,
      "outputs": [
        {
          "output_type": "execute_result",
          "data": {
            "text/plain": [
              "{'a': [1, 2, 3, 4], 'b': 'data science', 'c': 'pwskills'}"
            ]
          },
          "metadata": {},
          "execution_count": 31
        }
      ]
    },
    {
      "cell_type": "code",
      "source": [
        "# Ques 3:  What is an iterator in python? Name the method used to initialise the iterator object and the method used for iteration. Use these methods to print the first five elements of the given list [2, 4, 6, 8, 10, 12, 14, 16, 18, 20]"
      ],
      "metadata": {
        "id": "w_e1vyxTzbI7"
      },
      "execution_count": 32,
      "outputs": []
    },
    {
      "cell_type": "markdown",
      "source": [
        "Ans 3: Iterator is an object used to access elements in a sequence one by one.\n",
        "\n",
        "We use the **iter() method** to initialize a iterator.\n",
        "For example:\n",
        "\n",
        "             s = \"Hello\"\n",
        "             s1 = iter(s)\n",
        "\n",
        "Here s is a string iterator.\n",
        "\n",
        "We use the **next() method** for iteration.\n",
        "For example:\n",
        "\n",
        "            print(next(s1))\n",
        "\n",
        "It will print 'H' from the string s using iterator s1.\n",
        "\n",
        "\n"
      ],
      "metadata": {
        "id": "T1cyscsFm6KC"
      }
    },
    {
      "cell_type": "code",
      "source": [
        "l=[2,4,6,8,10,12,14,16,18,20]\n",
        "\n",
        "it = iter(l)\n",
        "\n",
        "for _ in range(5):\n",
        "  element = next(it)\n",
        "  print(element)"
      ],
      "metadata": {
        "colab": {
          "base_uri": "https://localhost:8080/"
        },
        "id": "d8ecvcsjn42G",
        "outputId": "3c1b0fbe-e9d9-4baa-fbef-a18f31b3c082"
      },
      "execution_count": 10,
      "outputs": [
        {
          "output_type": "stream",
          "name": "stdout",
          "text": [
            "2\n",
            "4\n",
            "6\n",
            "8\n",
            "10\n"
          ]
        }
      ]
    },
    {
      "cell_type": "code",
      "source": [
        "# Ques 4: What is a generator function in python? Why yield keyword is used? Give an example of a generator function."
      ],
      "metadata": {
        "id": "mbDAR78NC-DA"
      },
      "execution_count": 33,
      "outputs": []
    },
    {
      "cell_type": "markdown",
      "source": [
        "A generator function is a special type of function in Python which optimizes the memory space. It uses 'yield' keyword and does not use 'return' statement. It yields out the elements one by one continuoulsy. Generator objects are used.\n",
        "\n",
        "'yield' keyword is used to generate a value from the generator function. It is similar to return statement used in normal functions in Python."
      ],
      "metadata": {
        "id": "xofBTTvcoqyd"
      }
    },
    {
      "cell_type": "code",
      "source": [
        "# Example of generator function\n",
        "def find_cube(n):\n",
        "  for i in range(n):\n",
        "    yield i**2\n",
        "\n",
        "for i in find_cube(6):\n",
        "  print(i)"
      ],
      "metadata": {
        "colab": {
          "base_uri": "https://localhost:8080/"
        },
        "id": "E2BRVrc2rrRY",
        "outputId": "d7d0ca78-d0ee-4206-e102-2bab8f0538f3"
      },
      "execution_count": 13,
      "outputs": [
        {
          "output_type": "stream",
          "name": "stdout",
          "text": [
            "0\n",
            "1\n",
            "4\n",
            "9\n",
            "16\n",
            "25\n"
          ]
        }
      ]
    },
    {
      "cell_type": "code",
      "source": [
        "# Ques 5:  Create a generator function for prime numbers less than 1000. Use the next() method to print the first 20 prime numbers\n",
        "\n",
        "def prime_generator():\n",
        "  yield 2\n",
        "\n",
        "  primes = [2]\n",
        "  curr_num=3\n",
        "\n",
        "  while curr_num<1000:\n",
        "    isPrime = True\n",
        "\n",
        "    for prime in primes:\n",
        "      if prime*prime > curr_num:\n",
        "        break\n",
        "      if curr_num%prime==0:\n",
        "        isPrime = False\n",
        "        break\n",
        "\n",
        "    if isPrime:\n",
        "      primes.append(curr_num)\n",
        "      yield curr_num\n",
        "\n",
        "    curr_num+=1\n",
        "\n",
        "\n",
        "#object\n",
        "prime_obj = prime_generator()\n",
        "\n",
        "#print\n",
        "for _ in range(20):\n",
        "  num = next(prime_obj)\n",
        "  print(num)"
      ],
      "metadata": {
        "id": "eS0aBAG0za-R",
        "colab": {
          "base_uri": "https://localhost:8080/"
        },
        "outputId": "8a59e320-27b6-4c57-abd1-6707064f1115"
      },
      "execution_count": 26,
      "outputs": [
        {
          "output_type": "stream",
          "name": "stdout",
          "text": [
            "2\n",
            "3\n",
            "5\n",
            "7\n",
            "11\n",
            "13\n",
            "17\n",
            "19\n",
            "23\n",
            "29\n",
            "31\n",
            "37\n",
            "41\n",
            "43\n",
            "47\n",
            "53\n",
            "59\n",
            "61\n",
            "67\n",
            "71\n"
          ]
        }
      ]
    },
    {
      "cell_type": "code",
      "source": [
        "# Ques 6: Write a python program to print the first 10 Fibonacci numbers using a while loop.\n",
        "first,second,count=0,1,0\n",
        "while count<=10:\n",
        "  print(first)\n",
        "  third = first + second\n",
        "  first = second\n",
        "  second = third\n",
        "  count = count + 1"
      ],
      "metadata": {
        "colab": {
          "base_uri": "https://localhost:8080/"
        },
        "id": "_HZ7C_TuzazN",
        "outputId": "993afa1b-078d-4cdd-b33a-9a3b384d4d62"
      },
      "execution_count": 11,
      "outputs": [
        {
          "output_type": "stream",
          "name": "stdout",
          "text": [
            "0\n",
            "1\n",
            "1\n",
            "2\n",
            "3\n",
            "5\n",
            "8\n",
            "13\n",
            "21\n",
            "34\n",
            "55\n"
          ]
        }
      ]
    },
    {
      "cell_type": "code",
      "execution_count": 34,
      "metadata": {
        "id": "HrTUxcnvzIn8",
        "colab": {
          "base_uri": "https://localhost:8080/"
        },
        "outputId": "767c98fc-f409-4b47-bde9-4425a945410b"
      },
      "outputs": [
        {
          "output_type": "execute_result",
          "data": {
            "text/plain": [
              "['p', 'w', 's', 'k', 'i', 'l', 'l', 's']"
            ]
          },
          "metadata": {},
          "execution_count": 34
        }
      ],
      "source": [
        "# Ques 7: Write a List Comprehension to iterate through the given string: ‘pwskills’.\n",
        "# Expected output: ['p', 'w', 's', 'k', 'i', 'l', 'l', 's']\n",
        "s = \"pwskills\"\n",
        "[i for i in s]"
      ]
    },
    {
      "cell_type": "code",
      "source": [
        "# Ques 8:  Write a python program to check whether a given number is Palindrome or not using a while loop.\n",
        "def isPalindrome(num):\n",
        "  start,end = 0, len(num)-1\n",
        "  while start<=end:\n",
        "    if num[start]!=num[end] :\n",
        "      return False\n",
        "    start+=1\n",
        "    end-=1\n",
        "\n",
        "    return True\n",
        "\n",
        "\n",
        "isPalindrome(\"12321\")\n"
      ],
      "metadata": {
        "id": "dF_A1oKNzTin",
        "colab": {
          "base_uri": "https://localhost:8080/"
        },
        "outputId": "68da37d5-a197-4538-bfa4-3931d47b0592"
      },
      "execution_count": 35,
      "outputs": [
        {
          "output_type": "execute_result",
          "data": {
            "text/plain": [
              "True"
            ]
          },
          "metadata": {},
          "execution_count": 35
        }
      ]
    },
    {
      "cell_type": "code",
      "source": [
        "# Ques 9: Write a code to print odd numbers from 1 to 100 using list comprehension.\n",
        "odd_num_list = [i for i in range(1,101) if i%2!=0]\n",
        "print(odd_num_list)"
      ],
      "metadata": {
        "colab": {
          "base_uri": "https://localhost:8080/"
        },
        "id": "rlpnfNTg0HQx",
        "outputId": "4e3ebb1d-5a1a-4f79-a76a-1960a8ca9b91"
      },
      "execution_count": 36,
      "outputs": [
        {
          "output_type": "stream",
          "name": "stdout",
          "text": [
            "[1, 3, 5, 7, 9, 11, 13, 15, 17, 19, 21, 23, 25, 27, 29, 31, 33, 35, 37, 39, 41, 43, 45, 47, 49, 51, 53, 55, 57, 59, 61, 63, 65, 67, 69, 71, 73, 75, 77, 79, 81, 83, 85, 87, 89, 91, 93, 95, 97, 99]\n"
          ]
        }
      ]
    }
  ]
}
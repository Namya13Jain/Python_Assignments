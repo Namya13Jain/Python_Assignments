{
  "nbformat": 4,
  "nbformat_minor": 0,
  "metadata": {
    "colab": {
      "provenance": []
    },
    "kernelspec": {
      "name": "python3",
      "display_name": "Python 3"
    },
    "language_info": {
      "name": "python"
    }
  },
  "cells": [
    {
      "cell_type": "code",
      "execution_count": 2,
      "metadata": {
        "id": "CsakXEPUhg4S",
        "colab": {
          "base_uri": "https://localhost:8080/"
        },
        "outputId": "90505c42-cf40-4a14-a81a-5e3889926a35"
      },
      "outputs": [
        {
          "output_type": "stream",
          "name": "stdout",
          "text": [
            "Enter the password\n",
            "HeLl@#@12o\n",
            "Valid Password\n"
          ]
        }
      ],
      "source": [
        "\"\"\" Q1. You are writing code for a company. The requirement of the company is that you create a python\n",
        "function that will check whether the password entered by the user is correct or not. The function should\n",
        "take the password as input and return the string “Valid Password” if the entered password follows the\n",
        "below-given password guidelines else it should return “Invalid Password”.\n",
        "\n",
        "\n",
        "Note: 1. The Password should contain at least two uppercase letters and at least two lowercase letters.\n",
        "\n",
        "2. The Password should contain at least a number and three special characters.\n",
        "\n",
        "3. The length of the password should be 10 characters long. \"\"\"\n",
        "\n",
        "def checkPassword(password):\n",
        "  special_count = sum(1 for char in password if not char.isalnum())\n",
        "  digit_count = sum(1 for char in password if char.isdigit())\n",
        "  uppercase_count = sum(1 for char in password if char.isupper())\n",
        "  lowercase_count = sum(1 for char in password if char.islower())\n",
        "\n",
        "  if(uppercase_count>=2 and lowercase_count>=2 and special_count==3 and digit_count>=1 and len(password)==10):\n",
        "    return \"Valid Password\"\n",
        "  else:\n",
        "    return \"Invalid Password\"\n",
        "\n",
        "password = input(\"Enter the password\\n\")\n",
        "res = checkPassword(password)\n",
        "print(res)"
      ]
    },
    {
      "cell_type": "code",
      "source": [
        "# check if the string starts with a particular letter\n",
        "string = [\"Apple\", \"Banana\", \"Orange\", \"Mango\"]\n",
        "starts_with_A = list(filter(lambda x: x.startswith('A'), string))\n",
        "print(starts_with_A)\n",
        "#check if the string is numeric\n",
        "li = [\"abc\",\"123\",\"Apple\",\"86\"]\n",
        "isNumeric = list(filter(lambda x: x.isnumeric(),li))\n",
        "print(isNumeric)\n",
        "# Sort a list of tuples having fruit names and their quantity. [(\"mango\",99),(\"orange\",80), (\"grapes\", 1000)\n",
        "l = [(\"mango\",99),(\"orange\",80),(\"grapes\",1000)]\n",
        "sorted_fruits = sorted(l, key=lambda x: x[0])\n",
        "print(sorted_fruits)\n",
        "# square of numbers from 1 to 10\n",
        "square = [i**2 for i in range(1,11)]\n",
        "print(square)\n",
        "#cube root of numbers from 1 to 10\n",
        "import math\n",
        "cubeRt = [math.pow(i,1/3) for i in range(1,11)]\n",
        "print(cubeRt)\n",
        "#check if the given number is even\n",
        "a = lambda x:x%2==0\n",
        "print(a(31))\n",
        "#Filter odd numbers from the given list.\n",
        "nums = [1,2,3,4,5,6,7,8,9,10]\n",
        "isOdd = list(filter(lambda x: x%2!=0, nums))\n",
        "print(isOdd)\n",
        "# Sort a list of integers into positive and negative integers lists.\n",
        "dig = [1,2,3,4,5,6,-1,-2,-3,-4,-5,0]\n",
        "pos = [x for x in dig if x>0 or x==0]\n",
        "neg = [x for x in dig if x<0]\n",
        "print(\"Positive Numbers: \",pos)\n",
        "print(\"Negative Numbers: \", neg)"
      ],
      "metadata": {
        "colab": {
          "base_uri": "https://localhost:8080/"
        },
        "id": "5BoMrnzy2N04",
        "outputId": "783159cd-3cff-4f97-ef9b-91c442e4c620"
      },
      "execution_count": 1,
      "outputs": [
        {
          "output_type": "stream",
          "name": "stdout",
          "text": [
            "['Apple']\n",
            "['123', '86']\n",
            "[('grapes', 1000), ('mango', 99), ('orange', 80)]\n",
            "[1, 4, 9, 16, 25, 36, 49, 64, 81, 100]\n",
            "[1.0, 1.2599210498948732, 1.4422495703074083, 1.5874010519681994, 1.7099759466766968, 1.8171205928321397, 1.912931182772389, 2.0, 2.080083823051904, 2.154434690031884]\n",
            "False\n",
            "[1, 3, 5, 7, 9]\n",
            "Positive Numbers:  [1, 2, 3, 4, 5, 6, 0]\n",
            "Negative Numbers:  [-1, -2, -3, -4, -5]\n"
          ]
        }
      ]
    }
  ]
}
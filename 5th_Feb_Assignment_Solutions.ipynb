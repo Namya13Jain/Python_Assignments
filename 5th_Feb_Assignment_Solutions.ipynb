{
  "nbformat": 4,
  "nbformat_minor": 0,
  "metadata": {
    "colab": {
      "provenance": []
    },
    "kernelspec": {
      "name": "python3",
      "display_name": "Python 3"
    },
    "language_info": {
      "name": "python"
    }
  },
  "cells": [
    {
      "cell_type": "code",
      "execution_count": 1,
      "metadata": {
        "colab": {
          "base_uri": "https://localhost:8080/"
        },
        "id": "1uzI9nZIGHzV",
        "outputId": "289cc284-841d-4412-c3cd-c1e73202885c"
      },
      "outputs": [
        {
          "output_type": "stream",
          "name": "stdout",
          "text": [
            "Keep learning as it increases our skills!\n"
          ]
        }
      ],
      "source": [
        "#Ques 1.  Explain Class and Object with respect to Object-Oriented Programming. Give a suitable example.\n",
        "#Ans 1. Class is a blueprint representing a real world entity. It defines the properties and behavior of the objects of the class.\n",
        "#An object is an entity belonging to a particular class. It is an instance of the class. A class can have an infinite number of objects with different attribute values.\n",
        "#Ex:\n",
        "class note:\n",
        "\n",
        "  def print_details(self):\n",
        "    print(\"Keep learning as it increases our skills!\")\n",
        "\n",
        "obj1  = note()\n",
        "obj1.print_details()\n",
        "\n"
      ]
    },
    {
      "cell_type": "markdown",
      "source": [
        "Ques 2.  Name the four pillars of OOPs\n",
        "\n",
        "\n",
        "Ans 2. The 4 pillars of OOPs are:\n",
        "1. Abstraction\n",
        "2. Encapsulation\n",
        "3. Inheritance\n",
        "4. Polymorphism\n",
        "\n",
        "\n",
        "\n",
        "\n"
      ],
      "metadata": {
        "id": "asf5KCRkG3iO"
      }
    },
    {
      "cell_type": "markdown",
      "source": [
        "Ques 3. Explain why the __init__() function is used. Give a suitable example.\n",
        "\n",
        "Ans 3. The __init__() function is a special method in Python classes that is automatically called when an object is created from the class. It is commonly used to initialize the attributes of the object and perform any necessary setup or configuration.\n",
        "\n",
        "The primary purpose of the __init__() function is to ensure that all necessary attributes are assigned values when an object is created. It allows us to define and set the initial state of an object. By providing default or user-defined values for the attributes, we can ensure that every object created from the class starts with the desired initial values.\n"
      ],
      "metadata": {
        "id": "pqeM0LR9HH2X"
      }
    },
    {
      "cell_type": "code",
      "source": [
        "class Car:\n",
        "\n",
        "  def __init__(self, color, name, model):\n",
        "    self.car_color = color\n",
        "    self.company_name = name\n",
        "    self.car_model = model\n",
        "\n",
        "  def return_car_details(self):\n",
        "    print(\"The color of the car is: \", self.car_color)\n",
        "    print(\"The name of the manufacturing company is: \", self.company_name)\n",
        "    print(\"The model of the car is: \", self.car_model)\n",
        "\n",
        "car1 =  Car(\"Blue\",\"Maruti Suzuki\", \"Grand Vitara\")\n",
        "car1.return_car_details()"
      ],
      "metadata": {
        "colab": {
          "base_uri": "https://localhost:8080/"
        },
        "id": "5sYgePAEG4im",
        "outputId": "d47d6376-6957-4167-d944-29f4d5ff1266"
      },
      "execution_count": 2,
      "outputs": [
        {
          "output_type": "stream",
          "name": "stdout",
          "text": [
            "The color of the car is:  Blue\n",
            "The name of the manufacturing company is:  Maruti Suzuki\n",
            "The model of the car is:  Grand Vitara\n"
          ]
        }
      ]
    },
    {
      "cell_type": "markdown",
      "source": [
        "Ques 4. Why self is used in OOPs?\n",
        "\n",
        "Ans 4. ‘Self’ is a convention used in Python to bind the instances and methods to the class. If we do not use self then the object of that class will give an error. It is used to manipulate the methods and attributes of an object belonging to a particular class.\n"
      ],
      "metadata": {
        "id": "db7KDyiTHcxM"
      }
    },
    {
      "cell_type": "markdown",
      "source": [
        "Ques 5. What is inheritance? Give an example for each type of inheritance\n",
        "\n",
        "Ans 5. Inheritance is defined as the mechanism of inheriting the properties of the base class to the child class.\n",
        "Types of Inheritance:\n",
        "1. Single Inheritance\n",
        "2. Multiple Inheritance\n",
        "3. Multilevel Inheritance\n",
        "4. Hierarchical Inheritance\n",
        "5. Hybrid Inheritance\n"
      ],
      "metadata": {
        "id": "XS6dsEXtHh0z"
      }
    },
    {
      "cell_type": "code",
      "source": [
        "# Single Inheritance\n",
        "class test:\n",
        "\n",
        "  def test_meth(self):\n",
        "    print(\"This is my first class\")\n",
        "\n",
        "class child_test(test):\n",
        "  pass\n",
        "\n",
        "child_test_obj = child_test()\n",
        "child_test_obj.test_meth()\n",
        ""
      ],
      "metadata": {
        "colab": {
          "base_uri": "https://localhost:8080/"
        },
        "id": "zDXwv3yyHhg1",
        "outputId": "3393b909-c5f4-4e00-e73f-f3e0d8068a1d"
      },
      "execution_count": 3,
      "outputs": [
        {
          "output_type": "stream",
          "name": "stdout",
          "text": [
            "This is my first class\n"
          ]
        }
      ]
    },
    {
      "cell_type": "code",
      "source": [
        "# Multiple Inheritance\n",
        "class class1:\n",
        "  def class1_meth(self):\n",
        "    print(\"This is the function of class 1\\n\")\n",
        "\n",
        "class class2:\n",
        "  def class2_meth(self):\n",
        "    print(\"This is the function of class2\\n\")\n",
        "\n",
        "class class3(class1, class2):\n",
        "  def class3_meth(self):\n",
        "    print(\"This is the function of class 3\\n\")\n",
        "\n",
        "class3_obj = class3()\n",
        "class3_obj.class1_meth()\n",
        "class3_obj.class2_meth()\n",
        "class3_obj.class3_meth()\n",
        "\n",
        "print(\"*********************************\")\n",
        "\n",
        "class2_obj = class2()\n",
        "class2_obj.class2_meth()\n",
        "\n",
        "print(\"*********************************\")\n",
        "\n",
        "class1_obj = class1()\n",
        "class1_obj.class1_meth()"
      ],
      "metadata": {
        "colab": {
          "base_uri": "https://localhost:8080/"
        },
        "id": "Pmwroj0SHePE",
        "outputId": "940b81e4-b8a5-470b-aad2-a9b427250ea0"
      },
      "execution_count": 5,
      "outputs": [
        {
          "output_type": "stream",
          "name": "stdout",
          "text": [
            "This is the function of class 1\n",
            "\n",
            "This is the function of class2\n",
            "\n",
            "This is the function of class 3\n",
            "\n",
            "*********************************\n",
            "This is the function of class2\n",
            "\n",
            "*********************************\n",
            "This is the function of class 1\n",
            "\n"
          ]
        }
      ]
    },
    {
      "cell_type": "code",
      "source": [
        "# Multilevel Inheritance\n",
        "class class1:\n",
        "  def class1_meth(self):\n",
        "    print(\"This is the method of class 1\")\n",
        "\n",
        "class class2(class1):\n",
        "  def class2_meth(self):\n",
        "    print(\"This is the method of class 2\")\n",
        "\n",
        "class class3(class2):\n",
        "  def class3_meth(self):\n",
        "    print(\"This is the method of class 3\")\n",
        "\n",
        "class3_obj = class3()\n",
        "class3_obj.class1_meth()\n",
        "class3_obj.class2_meth()\n",
        "class3_obj.class3_meth()\n",
        "\n",
        "print(\"********************************\")\n",
        "class1_obj = class1()\n",
        "class1_obj.class1_meth()\n",
        "\n",
        "print(\"********************************\")\n",
        "class2_obj = class2()\n",
        "class2_obj.class1_meth()\n",
        "class2_obj.class2_meth()\n"
      ],
      "metadata": {
        "colab": {
          "base_uri": "https://localhost:8080/"
        },
        "id": "_g32r7kvHwry",
        "outputId": "2fb08105-6146-41fd-9901-59d55d73abcb"
      },
      "execution_count": 4,
      "outputs": [
        {
          "output_type": "stream",
          "name": "stdout",
          "text": [
            "This is the method of class 1\n",
            "This is the method of class 2\n",
            "This is the method of class 3\n",
            "********************************\n",
            "This is the method of class 1\n",
            "********************************\n",
            "This is the method of class 1\n",
            "This is the method of class 2\n"
          ]
        }
      ]
    },
    {
      "cell_type": "code",
      "source": [
        "# Hierarchical Inheritance\n",
        "class parent:\n",
        "  def parent_meth(self):\n",
        "    print(\"This is the parent class\\n\")\n",
        "\n",
        "class child1(parent):\n",
        "  def child1_meth(self):\n",
        "    print(\"This is child1's function\\n\")\n",
        "\n",
        "class child2(parent):\n",
        "  def child2_meth(self):\n",
        "    print(\"This is child2's function\\n\")\n",
        "\n",
        "class child3(parent):\n",
        "  def child3_meth(self):\n",
        "    print(\"This is child3's function\")\n",
        "\n",
        "parent_obj = parent()\n",
        "parent_obj.parent_meth()\n",
        "print(\"***************************\")\n",
        "\n",
        "child1_obj = child1()\n",
        "child1_obj.child1_meth()\n",
        "child1_obj.parent_meth()"
      ],
      "metadata": {
        "colab": {
          "base_uri": "https://localhost:8080/"
        },
        "id": "amuvEbl7Hyso",
        "outputId": "94f84626-cacc-48f5-bffa-36ac00a09c09"
      },
      "execution_count": 6,
      "outputs": [
        {
          "output_type": "stream",
          "name": "stdout",
          "text": [
            "This is the parent class\n",
            "\n",
            "***************************\n",
            "This is child1's function\n",
            "\n",
            "This is the parent class\n",
            "\n"
          ]
        }
      ]
    },
    {
      "cell_type": "code",
      "source": [
        "# Hybrid Inheritance\n",
        "class class1:\n",
        "  def class1_meth(self):\n",
        "    print(\"This is class 1\\n\")\n",
        "\n",
        "class class2(class1):\n",
        "  def class2_meth(self):\n",
        "    print(\"This is class 2\\n\")\n",
        "\n",
        "class class3(class1):\n",
        "  def class3_meth(self):\n",
        "    print(\"This is class 3\\n\")\n",
        "\n",
        "class class4(class3,class1):\n",
        "  def class4_meth(self):\n",
        "    print(\"This is class 4\\n\")\n",
        "\n",
        "class4_obj = class4()\n",
        "class4_obj.class4_meth()\n",
        "class4_obj.class3_meth()\n",
        "class4_obj.class1_meth()"
      ],
      "metadata": {
        "colab": {
          "base_uri": "https://localhost:8080/"
        },
        "id": "zA8FWe0dH14o",
        "outputId": "d61e812c-c450-40ab-846d-df6a6a2bcc34"
      },
      "execution_count": 7,
      "outputs": [
        {
          "output_type": "stream",
          "name": "stdout",
          "text": [
            "This is class 4\n",
            "\n",
            "This is class 3\n",
            "\n",
            "This is class 1\n",
            "\n"
          ]
        }
      ]
    }
  ]
}
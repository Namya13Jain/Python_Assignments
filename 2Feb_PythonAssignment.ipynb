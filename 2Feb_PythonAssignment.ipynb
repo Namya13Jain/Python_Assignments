{
  "nbformat": 4,
  "nbformat_minor": 0,
  "metadata": {
    "colab": {
      "provenance": []
    },
    "kernelspec": {
      "name": "python3",
      "display_name": "Python 3"
    },
    "language_info": {
      "name": "python"
    }
  },
  "cells": [
    {
      "cell_type": "markdown",
      "source": [
        "  Ques 1: Explain with an example each when to use a for loop and a while loop\n",
        "  Ans 1: We can use the for loop when we need to iterate over a list/tuple/set, or access all the elements of the list/tuple/set.\n",
        "\n",
        "   We use while loop in the following cases:\n",
        "   1. For reading a file into a variable.\n",
        "   2. when asking for user input.\n",
        "   3. when the increment value is nonstandard."
      ],
      "metadata": {
        "id": "i_KXtqFCb01k"
      }
    },
    {
      "cell_type": "code",
      "execution_count": 7,
      "metadata": {
        "colab": {
          "base_uri": "https://localhost:8080/"
        },
        "id": "w6sfB688bpUr",
        "outputId": "7ebf5c60-a35d-4090-fee7-4ab1f0f9f5aa"
      },
      "outputs": [
        {
          "output_type": "stream",
          "name": "stdout",
          "text": [
            "Sum =  55\n",
            "Product =  3628800\n"
          ]
        }
      ],
      "source": [
        "# Ques 2: Write a python program to print the sum and product of the first 10 natural numbers using for loop\n",
        "l = [1,2,3,4,5,6,7,8,9,10]\n",
        "sum = 0\n",
        "product = 1\n",
        "for i in l:\n",
        "  sum+=i\n",
        "  product*=i\n",
        "print(\"Sum = \",sum)\n",
        "print(\"Product = \",product)"
      ]
    },
    {
      "cell_type": "code",
      "source": [
        "# Ques 2: Write a python program to print the sum and product of the first 10 natural numbers using while loop\n",
        "sum = 0\n",
        "product = 1\n",
        "num = 1\n",
        "while num<=10:\n",
        "  product = product*num\n",
        "  sum=sum+num\n",
        "  num = num+1\n",
        "print(\"Sum = \",sum)\n",
        "print(\"Product = \",product)\n"
      ],
      "metadata": {
        "id": "fQQ0ic-ZdviJ",
        "colab": {
          "base_uri": "https://localhost:8080/"
        },
        "outputId": "e26ee4c0-4c72-4e06-c52a-50cf7ab4175c"
      },
      "execution_count": 6,
      "outputs": [
        {
          "output_type": "stream",
          "name": "stdout",
          "text": [
            "Sum =  55\n",
            "Product =  3628800\n"
          ]
        }
      ]
    },
    {
      "cell_type": "code",
      "source": [
        "# Ques 3: Create a python program to compute the electricity bill for a household. Create a list of numbers from 1 to 100. Use for loop and while loop to calculate the cube of each number and if the cube of that number is divisible by 4 or 5 then append that number in a list and print that list.The per-unit charges in rupees are as follows: For the first 100 units, the user will be charged Rs. 4.5 per unit, for the next 100 units, the user will be charged Rs. 6 per unit, and for the next 100 units, the user will be charged Rs. 10 per unit, After 300 units and above the user will be charged Rs. 20 per unit.\n",
        "units = int(input(\"Enter the units of the electricity consumed \"))\n",
        "amt = 0\n",
        "if units<=100:\n",
        "  amt = 4.5*units\n",
        "elif units<=200:\n",
        "  amt = 4.5*100 + 6*(units-100)\n",
        "elif  units<=300:\n",
        "  amt = 4.5*100 + 6*100 + 10*(units-200)\n",
        "else :\n",
        "  amt = 4.5*100 + 6*100 + 10*100 + 20*(units-300)\n",
        "print(amt)"
      ],
      "metadata": {
        "id": "VARiwSiveBL9",
        "colab": {
          "base_uri": "https://localhost:8080/"
        },
        "outputId": "ffacbdf3-f876-408a-bf0c-bcbdcdecfa0d"
      },
      "execution_count": 3,
      "outputs": [
        {
          "output_type": "stream",
          "name": "stdout",
          "text": [
            "Enter the units of the electricity consumed 310\n",
            "2250.0\n"
          ]
        }
      ]
    },
    {
      "cell_type": "code",
      "source": [
        "# Ques 4:  Create a list of numbers from 1 to 100. Use for loop to calculate the cube of each number and if the cube of that number is divisible by 4 or 5 then append that number in a list and print that list.\n",
        "l=[]\n",
        "for i in range(1,101):\n",
        "  cube = i**3\n",
        "  if cube%4==0 or cube%5==0:\n",
        "    l.append(i)\n",
        "l"
      ],
      "metadata": {
        "colab": {
          "base_uri": "https://localhost:8080/"
        },
        "id": "Wf4l0GTunqHY",
        "outputId": "1fd392ad-e93c-4149-900b-c9ba8fdf83ea"
      },
      "execution_count": 9,
      "outputs": [
        {
          "output_type": "execute_result",
          "data": {
            "text/plain": [
              "[2,\n",
              " 4,\n",
              " 5,\n",
              " 6,\n",
              " 8,\n",
              " 10,\n",
              " 12,\n",
              " 14,\n",
              " 15,\n",
              " 16,\n",
              " 18,\n",
              " 20,\n",
              " 22,\n",
              " 24,\n",
              " 25,\n",
              " 26,\n",
              " 28,\n",
              " 30,\n",
              " 32,\n",
              " 34,\n",
              " 35,\n",
              " 36,\n",
              " 38,\n",
              " 40,\n",
              " 42,\n",
              " 44,\n",
              " 45,\n",
              " 46,\n",
              " 48,\n",
              " 50,\n",
              " 52,\n",
              " 54,\n",
              " 55,\n",
              " 56,\n",
              " 58,\n",
              " 60,\n",
              " 62,\n",
              " 64,\n",
              " 65,\n",
              " 66,\n",
              " 68,\n",
              " 70,\n",
              " 72,\n",
              " 74,\n",
              " 75,\n",
              " 76,\n",
              " 78,\n",
              " 80,\n",
              " 82,\n",
              " 84,\n",
              " 85,\n",
              " 86,\n",
              " 88,\n",
              " 90,\n",
              " 92,\n",
              " 94,\n",
              " 95,\n",
              " 96,\n",
              " 98,\n",
              " 100]"
            ]
          },
          "metadata": {},
          "execution_count": 9
        }
      ]
    },
    {
      "cell_type": "code",
      "source": [
        "#  Create a list of numbers from 1 to 100. Use while loop to calculate the cube of each number and if the cube of that number is divisible by 4 or 5 then append that number in a list and print that list.\n",
        "num = 1\n",
        "l=[]\n",
        "while num<=100:\n",
        "  cube = num**3\n",
        "  if cube%4==0 or cube%5==0:\n",
        "    l.append(num)\n",
        "  num=num+1\n",
        "l"
      ],
      "metadata": {
        "colab": {
          "base_uri": "https://localhost:8080/"
        },
        "id": "wYmb3Ufeu0z0",
        "outputId": "0bb830dd-0ee6-4ac2-b14c-9b82f97e001b"
      },
      "execution_count": 11,
      "outputs": [
        {
          "output_type": "execute_result",
          "data": {
            "text/plain": [
              "[2,\n",
              " 4,\n",
              " 5,\n",
              " 6,\n",
              " 8,\n",
              " 10,\n",
              " 12,\n",
              " 14,\n",
              " 15,\n",
              " 16,\n",
              " 18,\n",
              " 20,\n",
              " 22,\n",
              " 24,\n",
              " 25,\n",
              " 26,\n",
              " 28,\n",
              " 30,\n",
              " 32,\n",
              " 34,\n",
              " 35,\n",
              " 36,\n",
              " 38,\n",
              " 40,\n",
              " 42,\n",
              " 44,\n",
              " 45,\n",
              " 46,\n",
              " 48,\n",
              " 50,\n",
              " 52,\n",
              " 54,\n",
              " 55,\n",
              " 56,\n",
              " 58,\n",
              " 60,\n",
              " 62,\n",
              " 64,\n",
              " 65,\n",
              " 66,\n",
              " 68,\n",
              " 70,\n",
              " 72,\n",
              " 74,\n",
              " 75,\n",
              " 76,\n",
              " 78,\n",
              " 80,\n",
              " 82,\n",
              " 84,\n",
              " 85,\n",
              " 86,\n",
              " 88,\n",
              " 90,\n",
              " 92,\n",
              " 94,\n",
              " 95,\n",
              " 96,\n",
              " 98,\n",
              " 100]"
            ]
          },
          "metadata": {},
          "execution_count": 11
        }
      ]
    },
    {
      "cell_type": "code",
      "source": [
        "# Ques 5:  Write a program to filter count vowels in the below-given string.\n",
        "# string = \"I want to become a data scientist\"\n",
        "s = \"I want to become a data scientist\"\n",
        "count=0\n",
        "for i in s:\n",
        "  if(i=='a' or i=='e' or i=='i' or i=='o' or i=='u' or i=='A' or i=='E' or i=='I' or i=='O' or i=='U'):\n",
        "    count=count+1\n",
        "print(count)"
      ],
      "metadata": {
        "colab": {
          "base_uri": "https://localhost:8080/"
        },
        "id": "QM1MAta3c3ux",
        "outputId": "9270bc41-117c-446c-e138-f46a32d56609"
      },
      "execution_count": 5,
      "outputs": [
        {
          "output_type": "stream",
          "name": "stdout",
          "text": [
            "12\n"
          ]
        }
      ]
    }
  ]
}